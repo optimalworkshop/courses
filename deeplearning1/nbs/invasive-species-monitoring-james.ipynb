{
 "cells": [
  {
   "cell_type": "markdown",
   "metadata": {},
   "source": [
    "Split training data into correct folders\n",
    "--------------------------------------"
   ]
  },
  {
   "cell_type": "code",
   "execution_count": 2,
   "metadata": {
    "collapsed": false
   },
   "outputs": [],
   "source": [
    "%matplotlib inline\n",
    "from __future__ import division,print_function\n",
    "import os, json\n",
    "from glob import glob\n",
    "import numpy as np\n",
    "np.set_printoptions(precision=4, linewidth=100)\n",
    "from matplotlib import pyplot as plt\n",
    "\n",
    "path = 'data/invasive-species-monitoring/'\n",
    "labels = np.genfromtxt(path + 'train_labels.csv', dtype=None, delimiter=',', names=True)"
   ]
  },
  {
   "cell_type": "code",
   "execution_count": null,
   "metadata": {
    "collapsed": true
   },
   "outputs": [],
   "source": [
    "%mkdir {path + 'train/non-invasive'}\n",
    "%mkdir {path + 'train/invasive'}\n",
    "\n",
    "for record in labels:\n",
    "    folder = 'invasive/' if np.int(record[1]) == 1 else 'non-invasive/'\n",
    "    %cp {path}train/{record[0]}.jpg {path}train/{folder}{record[0]}.jpg"
   ]
  },
  {
   "cell_type": "markdown",
   "metadata": {},
   "source": [
    "Create validation set\n",
    "---------------------"
   ]
  },
  {
   "cell_type": "code",
   "execution_count": 2,
   "metadata": {
    "collapsed": true
   },
   "outputs": [],
   "source": [
    "%mkdir -p {path + 'valid/invasive'}\n",
    "g = glob(path + 'train/invasive/*.jpg')\n",
    "shuf = np.random.permutation(g)\n",
    "for i in range(200):\n",
    "    %mv {shuf[i]} {path + 'valid/invasive/.'}\n",
    "    \n",
    "%mkdir -p {path + 'valid/non-invasive'}\n",
    "g = glob(path + 'train/non-invasive/*.jpg')\n",
    "shuf = np.random.permutation(g)\n",
    "for i in range(200): \n",
    "    %mv {shuf[i]} {path + 'valid/non-invasive/.'}\n"
   ]
  },
  {
   "cell_type": "markdown",
   "metadata": {},
   "source": [
    "Create sample dir\n",
    "------------------"
   ]
  },
  {
   "cell_type": "code",
   "execution_count": 3,
   "metadata": {
    "collapsed": true
   },
   "outputs": [],
   "source": [
    "%mkdir -p {path + 'sample/train/invasive'}\n",
    "g = glob(path + 'train/invasive/*.jpg')\n",
    "shuf = np.random.permutation(g)\n",
    "for i in range(10):\n",
    "    %cp {shuf[i]} {path + 'sample/train/invasive/.'}\n",
    "\n",
    "%mkdir -p {path + 'sample/train/non-invasive'}\n",
    "g = glob(path + 'train/non-invasive/*.jpg')\n",
    "shuf = np.random.permutation(g)\n",
    "for i in range(10):\n",
    "    %cp {shuf[i]} {path + 'sample/train/non-invasive/.'}\n",
    "\n",
    "%mkdir -p {path + 'sample/valid/invasive'}\n",
    "g = glob(path + 'valid/invasive/*.jpg')\n",
    "shuf = np.random.permutation(g)\n",
    "for i in range(10):\n",
    "    %cp {shuf[i]} {path + 'sample/valid/invasive/.'}\n",
    "\n",
    "%mkdir -p {path + 'sample/valid/non-invasive'}\n",
    "g = glob(path + 'valid/non-invasive/*.jpg')\n",
    "shuf = np.random.permutation(g)\n",
    "for i in range(10):\n",
    "    %cp {shuf[i]} {path + 'sample/valid/non-invasive/.'}\n",
    "    \n",
    "%mkdir -p {path + '/sample/test/unknown'}\n",
    "g = glob(path + 'test/*.jpg')\n",
    "shuf = np.random.permutation(g)\n",
    "for i in range(10):\n",
    "    %cp {shuf[i]} {path + 'sample/test/unknown/.'}"
   ]
  },
  {
   "cell_type": "code",
   "execution_count": 4,
   "metadata": {
    "collapsed": true
   },
   "outputs": [],
   "source": [
    "# Need to also move test data to a label \"unknown\"\n",
    "%mkdir -p {path + '/test/unknown'}\n",
    "%cp {path + 'test/*.jpg'} {path + 'test/unknown/.'}"
   ]
  },
  {
   "cell_type": "code",
   "execution_count": null,
   "metadata": {
    "collapsed": true
   },
   "outputs": [],
   "source": []
  },
  {
   "cell_type": "markdown",
   "metadata": {},
   "source": [
    "Train\n",
    "-------"
   ]
  },
  {
   "cell_type": "code",
   "execution_count": 8,
   "metadata": {
    "collapsed": false
   },
   "outputs": [
    {
     "data": {
      "text/plain": [
       "'data/invasive-species-monitoring/'"
      ]
     },
     "execution_count": 8,
     "metadata": {},
     "output_type": "execute_result"
    }
   ],
   "source": [
    "path = 'data/invasive-species-monitoring/'\n",
    "path"
   ]
  },
  {
   "cell_type": "markdown",
   "metadata": {},
   "source": [
    "Make predictions\n",
    "-----------------"
   ]
  },
  {
   "cell_type": "code",
   "execution_count": 9,
   "metadata": {
    "collapsed": false
   },
   "outputs": [],
   "source": [
    "from utils import *\n",
    "from vgg16 import Vgg16\n",
    "vgg = Vgg16()\n",
    "\n",
    "#Set constants. You can experiment with no_of_epochs to improve the model\n",
    "batch_size=64\n",
    "no_of_epochs=5"
   ]
  },
  {
   "cell_type": "code",
   "execution_count": 31,
   "metadata": {
    "collapsed": false
   },
   "outputs": [
    {
     "name": "stdout",
     "output_type": "stream",
     "text": [
      "Found 1895 images belonging to 2 classes.\n",
      "Found 400 images belonging to 2 classes.\n"
     ]
    }
   ],
   "source": [
    "#Finetune the model\n",
    "batches = vgg.get_batches(path + '/train', batch_size=batch_size)\n",
    "val_batches = vgg.get_batches(path + '/valid', batch_size=batch_size*2)\n",
    "\n",
    "vgg.finetune(batches)"
   ]
  },
  {
   "cell_type": "code",
   "execution_count": 32,
   "metadata": {
    "collapsed": true
   },
   "outputs": [],
   "source": [
    "vgg.model.optimizer.lr = 0.01"
   ]
  },
  {
   "cell_type": "code",
   "execution_count": 36,
   "metadata": {
    "collapsed": false
   },
   "outputs": [
    {
     "name": "stdout",
     "output_type": "stream",
     "text": [
      "Running epoch: 0\n",
      "Epoch 1/1\n",
      "1895/1895 [==============================] - 92s - loss: 0.8387 - acc: 0.8654 - val_loss: 1.7456 - val_acc: 0.7325\n",
      "Running epoch: 1\n",
      "Epoch 1/1\n",
      "1895/1895 [==============================] - 90s - loss: 1.1339 - acc: 0.8607 - val_loss: 1.0841 - val_acc: 0.8300\n",
      "Running epoch: 2\n",
      "Epoch 1/1\n",
      "1895/1895 [==============================] - 99s - loss: 1.2454 - acc: 0.8686 - val_loss: 0.8627 - val_acc: 0.9075\n",
      "Running epoch: 3\n",
      "Epoch 1/1\n",
      "1895/1895 [==============================] - 103s - loss: 1.0774 - acc: 0.8876 - val_loss: 0.5130 - val_acc: 0.9200\n",
      "Running epoch: 4\n",
      "Epoch 1/1\n",
      "1895/1895 [==============================] - 87s - loss: 1.0883 - acc: 0.8797 - val_loss: 1.0869 - val_acc: 0.8575\n",
      "Running epoch: 5\n",
      "Epoch 1/1\n",
      "1895/1895 [==============================] - 88s - loss: 1.0579 - acc: 0.8923 - val_loss: 0.4720 - val_acc: 0.9425\n",
      "Running epoch: 6\n",
      "Epoch 1/1\n",
      "1895/1895 [==============================] - 101s - loss: 1.1239 - acc: 0.8786 - val_loss: 0.6238 - val_acc: 0.9200\n",
      "Running epoch: 7\n",
      "Epoch 1/1\n",
      "1895/1895 [==============================] - 87s - loss: 1.0499 - acc: 0.8865 - val_loss: 1.2795 - val_acc: 0.8150\n",
      "Running epoch: 8\n",
      "Epoch 1/1\n",
      "1895/1895 [==============================] - 99s - loss: 0.9378 - acc: 0.8939 - val_loss: 0.5136 - val_acc: 0.9300\n",
      "Running epoch: 9\n",
      "Epoch 1/1\n",
      "1895/1895 [==============================] - 90s - loss: 1.0339 - acc: 0.8934 - val_loss: 0.5832 - val_acc: 0.9300\n",
      "Completed 10 fit operations\n"
     ]
    }
   ],
   "source": [
    "#Notice we are passing in the validation dataset to the fit() method\n",
    "#For each epoch we test our model against the validation set\n",
    "#latest_weights_filename = None\n",
    "vgg.model.load_weights(path + '/resultsft4.h5')\n",
    "no_of_epochs = 10\n",
    "for epoch in range(no_of_epochs):\n",
    "    print('Running epoch: %d' % epoch)\n",
    "    vgg.fit(batches, val_batches, nb_epoch=1)\n",
    "    latest_weights_filename = 'ft%d.h5' % epoch\n",
    "    vgg.model.save_weights(path + '/results' + latest_weights_filename)\n",
    "print(\"Completed %s fit operations\" % no_of_epochs)"
   ]
  },
  {
   "cell_type": "markdown",
   "metadata": {},
   "source": [
    "Create prediction csv\n",
    "---------------------"
   ]
  },
  {
   "cell_type": "code",
   "execution_count": 37,
   "metadata": {
    "collapsed": false
   },
   "outputs": [
    {
     "name": "stdout",
     "output_type": "stream",
     "text": [
      "Found 1531 images belonging to 1 classes.\n"
     ]
    }
   ],
   "source": [
    "%config IPCompleter.greedy=True \n",
    "batches, preds = vgg.test(path + 'test')"
   ]
  },
  {
   "cell_type": "code",
   "execution_count": 38,
   "metadata": {
    "collapsed": false
   },
   "outputs": [
    {
     "data": {
      "text/plain": [
       "array([[  1.0000e+00,   8.0102e-15],\n",
       "       [  1.3041e-15,   1.0000e+00],\n",
       "       [  1.8968e-14,   1.0000e+00],\n",
       "       [  1.0000e+00,   2.3797e-13],\n",
       "       [  1.2596e-04,   9.9987e-01]], dtype=float32)"
      ]
     },
     "execution_count": 38,
     "metadata": {},
     "output_type": "execute_result"
    }
   ],
   "source": [
    "preds[:5]"
   ]
  },
  {
   "cell_type": "code",
   "execution_count": 39,
   "metadata": {
    "collapsed": false
   },
   "outputs": [
    {
     "data": {
      "text/plain": [
       "['unknown/779.jpg',\n",
       " 'unknown/1261.jpg',\n",
       " 'unknown/878.jpg',\n",
       " 'unknown/552.jpg',\n",
       " 'unknown/400.jpg']"
      ]
     },
     "execution_count": 39,
     "metadata": {},
     "output_type": "execute_result"
    }
   ],
   "source": [
    "batches.filenames[:5]"
   ]
  },
  {
   "cell_type": "code",
   "execution_count": 40,
   "metadata": {
    "collapsed": false
   },
   "outputs": [
    {
     "data": {
      "text/plain": [
       "[('unknown/779.jpg', array([  1.0000e+00,   8.0102e-15], dtype=float32)),\n",
       " ('unknown/1261.jpg', array([  1.3041e-15,   1.0000e+00], dtype=float32)),\n",
       " ('unknown/878.jpg', array([  1.8968e-14,   1.0000e+00], dtype=float32)),\n",
       " ('unknown/552.jpg', array([  1.0000e+00,   2.3797e-13], dtype=float32)),\n",
       " ('unknown/400.jpg', array([  1.2596e-04,   9.9987e-01], dtype=float32))]"
      ]
     },
     "execution_count": 40,
     "metadata": {},
     "output_type": "execute_result"
    }
   ],
   "source": [
    "results = zip(batches.filenames, preds)\n",
    "results[:5]"
   ]
  },
  {
   "cell_type": "code",
   "execution_count": 41,
   "metadata": {
    "collapsed": false
   },
   "outputs": [
    {
     "data": {
      "text/plain": [
       "array([[  7.7900e+02,   1.0000e+00],\n",
       "       [  1.2610e+03,   1.3041e-15],\n",
       "       [  8.7800e+02,   1.8968e-14],\n",
       "       [  5.5200e+02,   1.0000e+00],\n",
       "       [  4.0000e+02,   1.2596e-04]])"
      ]
     },
     "execution_count": 41,
     "metadata": {},
     "output_type": "execute_result"
    }
   ],
   "source": [
    "import re\n",
    "\n",
    "def format(x):\n",
    "    id = re.sub('unknown/([0-9]+)\\.jpg', r'\\1', x[0])\n",
    "    return [np.int(id), np.float(x[1][0])]\n",
    "    \n",
    "formattedResults = np.array(map(format, results))\n",
    "formattedResults[:5]"
   ]
  },
  {
   "cell_type": "code",
   "execution_count": 42,
   "metadata": {
    "collapsed": true
   },
   "outputs": [],
   "source": [
    "np.savetxt('data/invasive-species-monitoring/jp_invasive.csv', formattedResults, fmt='%d,%.5f', delimiter=',', header='name,invasive', comments='')"
   ]
  },
  {
   "cell_type": "code",
   "execution_count": 43,
   "metadata": {
    "collapsed": false
   },
   "outputs": [
    {
     "data": {
      "text/html": [
       "<a href='data/invasive-species-monitoring/jp_invasive.csv' target='_blank'>data/invasive-species-monitoring/jp_invasive.csv</a><br>"
      ],
      "text/plain": [
       "/home/ubuntu/fastai/deeplearning1/nbs/data/invasive-species-monitoring/jp_invasive.csv"
      ]
     },
     "execution_count": 43,
     "metadata": {},
     "output_type": "execute_result"
    }
   ],
   "source": [
    "from IPython.display import FileLink\n",
    "FileLink('data/invasive-species-monitoring/jp_invasive.csv')"
   ]
  },
  {
   "cell_type": "code",
   "execution_count": null,
   "metadata": {
    "collapsed": true
   },
   "outputs": [],
   "source": []
  }
 ],
 "metadata": {
  "anaconda-cloud": {},
  "kernelspec": {
   "display_name": "Python [default]",
   "language": "python",
   "name": "python2"
  },
  "language_info": {
   "codemirror_mode": {
    "name": "ipython",
    "version": 2
   },
   "file_extension": ".py",
   "mimetype": "text/x-python",
   "name": "python",
   "nbconvert_exporter": "python",
   "pygments_lexer": "ipython2",
   "version": "2.7.12"
  }
 },
 "nbformat": 4,
 "nbformat_minor": 2
}
